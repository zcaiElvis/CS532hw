{
 "cells": [
  {
   "cell_type": "code",
   "execution_count": 2,
   "metadata": {},
   "outputs": [],
   "source": [
    "# Standard imports\n",
    "import numpy as np\n",
    "import matplotlib.pyplot as plt\n",
    "import nest_asyncio\n",
    "import wandb\n",
    "\n",
    "# Project imports\n",
    "import stan\n",
    "import httpstan"
   ]
  },
  {
   "cell_type": "code",
   "execution_count": null,
   "metadata": {},
   "outputs": [],
   "source": [
    "# Weights & biases\n",
    "# NOTE: Only turn this on when you think you have got everything working\n",
    "wandb_run = False\n",
    "if wandb_run:\n",
    "    wandb.init(project='HW1-Q6', entity='cs532-2022')"
   ]
  },
  {
   "cell_type": "markdown",
   "metadata": {},
   "source": [
    "Bayesian neural network\n",
    "```\n",
    "(let [weight-prior (normal 0 1)\n",
    "      W_0 (foreach 10 []\n",
    "            (foreach 1 [] (sample weight-prior)))\n",
    "      W_1 (foreach 10 []\n",
    "            (foreach 10 [] (sample weight-prior)))\n",
    "      W_2 (foreach 1 []\n",
    "            (foreach 10 [] (sample weight-prior)))\n",
    "\n",
    "      b_0 (foreach 10 []\n",
    "            (foreach 1 [] (sample weight-prior)))\n",
    "      b_1 (foreach 10 []\n",
    "            (foreach 1 [] (sample weight-prior)))\n",
    "      b_2 (foreach 1 []\n",
    "            (foreach 1 [] (sample weight-prior)))\n",
    "\n",
    "      x   (mat-transpose [[1] [2] [3] [4] [5]])\n",
    "      y   [[1] [4] [9] [16] [25]]\n",
    "      h_0 (mat-tanh (mat-add (mat-mul W_0 x)\n",
    "                             (mat-repmat b_0 1 5)))\n",
    "      h_1 (mat-tanh (mat-add (mat-mul W_1 h_0)\n",
    "                             (mat-repmat b_1 1 5)))\n",
    "      mu  (mat-transpose\n",
    "            (mat-tanh (mat-add (mat-mul W_2 h_1)\n",
    "                               (mat-repmat b_2 1 5))))]\n",
    "(foreach 5 [y_r y\n",
    "            mu_r mu]\n",
    "   (foreach 1 [y_rc y_r\n",
    "               mu_rc mu_r]\n",
    "      (observe (normal mu_rc 1) y_rc)))\n",
    "[W_0 b_0 W_1 b_1])\n",
    "```"
   ]
  },
  {
   "cell_type": "code",
   "execution_count": null,
   "metadata": {},
   "outputs": [],
   "source": [
    "# Requied for stan in jupyter\n",
    "nest_asyncio.apply()\n",
    "\n",
    "# Environment variables for Stan compilation\n",
    "%env CC=gcc\n",
    "%env CXX=gcc\n",
    "\n",
    "# Stan info\n",
    "print('Stan version:', stan.__version__)\n",
    "print('Stan location:', stan.__file__)"
   ]
  },
  {
   "cell_type": "code",
   "execution_count": null,
   "metadata": {},
   "outputs": [],
   "source": [
    "# Read Stan code\n",
    "code_file = 'Q6.stan' # NOTE: You will need to write the model in Q6.stan\n",
    "with open(code_file) as f:\n",
    "    stan_code = f.read()\n",
    "f.close()\n",
    "print('Stan code:\\n', stan_code)"
   ]
  },
  {
   "cell_type": "code",
   "execution_count": null,
   "metadata": {},
   "outputs": [],
   "source": [
    "# Parameters\n",
    "\n",
    "# Observations\n",
    "# NOTE: Fill this in!\n",
    "data = None\n",
    "\n",
    "# Options\n",
    "force_rebuild_model = False\n",
    "num_chains = 4\n",
    "num_samples = int(1e4)"
   ]
  },
  {
   "cell_type": "code",
   "execution_count": null,
   "metadata": {},
   "outputs": [],
   "source": [
    "# Get the the name of the folder where your model is saved then delete\n",
    "if force_rebuild_model:\n",
    "    model_name = httpstan.models.calculate_model_name(stan_code)\n",
    "    print('Stan model name:', model_name)\n",
    "    httpstan.cache.delete_model_directory(model_name)"
   ]
  },
  {
   "cell_type": "code",
   "execution_count": 17,
   "metadata": {},
   "outputs": [],
   "source": [
    "# Run Stan\n",
    "posterior = stan.build(stan_code, data=data, random_seed=1)\n",
    "fit = posterior.sample(num_chains=num_chains, num_samples=num_samples)\n",
    "\n",
    "# W&B logging\n",
    "if wandb_run:\n",
    "    for W0, W1, W2, b0, b1, b2 in zip(fit['W0'], fit['W1'], fit['W2'], fit['b0'], fit['b1'], fit['b2']):\n",
    "        wandb.log({'W0': W0, 'W1': W1, 'b0': b0, 'b1': b1, 'W2': W2, 'b2': b2})"
   ]
  },
  {
   "cell_type": "code",
   "execution_count": null,
   "metadata": {},
   "outputs": [],
   "source": [
    "# Print information about outputs\n",
    "for array in ['W0', 'W1', 'W2', 'b0', 'b1', 'b2']:\n",
    "    print(array, type(fit[array]), fit[array].shape)"
   ]
  },
  {
   "cell_type": "code",
   "execution_count": null,
   "metadata": {},
   "outputs": [],
   "source": [
    "# Plot posterior distributions\n",
    "plt.subplots(2, 3, figsize=(12, 8))\n",
    "\n",
    "# W0\n",
    "plt.subplot(2, 3, 1)\n",
    "for i in range(10):\n",
    "    plt.hist(fit['W0'][i, 0], density=True, bins='auto', alpha=0.3)\n",
    "plt.title(r'$W_0$')\n",
    "plt.yticks([])\n",
    "\n",
    "# W1\n",
    "plt.subplot(2, 3, 2)\n",
    "for i in range(10):\n",
    "    for j in range(10):\n",
    "        plt.hist(fit['W1'][i, j], density=True, bins='auto', alpha=0.1)\n",
    "plt.title(r'$W_1$')\n",
    "plt.yticks([])\n",
    "\n",
    "# W2\n",
    "plt.subplot(2, 3, 3)\n",
    "for i in range(10):\n",
    "    plt.hist(fit['W2'][0, i], density=True, bins='auto', alpha=0.1)\n",
    "plt.title(r'$W_2$')\n",
    "plt.yticks([])\n",
    "\n",
    "# b0\n",
    "plt.subplot(2, 3, 4)\n",
    "for i in range(10):\n",
    "    plt.hist(fit['b0'][i, 0], density=True, bins='auto', alpha=0.3)\n",
    "plt.title(r'$b_0$')\n",
    "plt.yticks([])\n",
    "\n",
    "# b1\n",
    "plt.subplot(2, 3, 5)\n",
    "for i in range(10):\n",
    "    plt.hist(fit['b1'][i, 0], density=True, bins='auto', alpha=0.3)\n",
    "plt.title(r'$b_1$')\n",
    "plt.yticks([])\n",
    "\n",
    "# b2\n",
    "plt.subplot(2, 3, 6)\n",
    "plt.hist(fit['b2'][0, 0], density=True, bins='auto', alpha=0.1)\n",
    "plt.title(r'$b_2$')\n",
    "plt.yticks([])\n",
    "\n",
    "if wandb_run: wandb.log({'Question 6; posterior': wandb.Image(plt)})\n",
    "\n",
    "plt.show()"
   ]
  },
  {
   "cell_type": "code",
   "execution_count": null,
   "metadata": {},
   "outputs": [],
   "source": [
    "# Posterior predictive\n",
    "plt.hist(fit['y_tilde'][0], density=True, bins='auto')\n",
    "plt.xlabel('Posterior predictive at new datum: %1.1f'%(data['x_new']))\n",
    "plt.yticks([])\n",
    "if wandb_run: wandb.log({'Question 6; posterior predictive': wandb.Image(plt)})\n",
    "plt.show()"
   ]
  },
  {
   "cell_type": "code",
   "execution_count": null,
   "metadata": {},
   "outputs": [],
   "source": [
    "# Neural network in numpy\n",
    "def model(W0, b0, W1, b1, W2, b2, x):\n",
    "    # NOTE: Fill this in!\n",
    "    y = np.tanh(W2*np.tanh(W1*(np.tanh(x*W0+b0))+b1)+b2)\n",
    "    return None"
   ]
  },
  {
   "cell_type": "code",
   "execution_count": null,
   "metadata": {},
   "outputs": [],
   "source": [
    "# Parameters\n",
    "xmin = 0.; xmax = 6.; nx = 33\n",
    "x = np.array([np.linspace(xmin, xmax, nx)])\n",
    "n = int(1e3)\n",
    "\n",
    "# Draw samples to form the posterior predictive\n",
    "ys = []\n",
    "for i in range(n):\n",
    "    W0 = fit['W0'][:, :, i]\n",
    "    W1 = fit['W1'][:, :, i]\n",
    "    W2 = fit['W2'][:, :, i]\n",
    "    b0 = fit['b0'][:, i]\n",
    "    b1 = fit['b1'][:, i]\n",
    "    b2 = fit['b2'][:, i]\n",
    "    y = model(W0, b0, W1, b1, W2, b2, x)\n",
    "    if i == 0:\n",
    "        print('Example y:', y, y.shape, '\\n')\n",
    "    ys.append(y) # Output will also be a matrix\n",
    "ys = np.array(ys) # Convert list to numpy array"
   ]
  },
  {
   "cell_type": "code",
   "execution_count": null,
   "metadata": {},
   "outputs": [],
   "source": [
    "# Plot posterior predictive distribution\n",
    "plt.fill_between(x[0], np.percentile(ys, 2.28, axis=0)[0], np.percentile(ys, 97.72, axis=0)[0], color='C0', alpha=0.25) # 2-sigma\n",
    "plt.fill_between(x[0], np.percentile(ys, 15.87, axis=0)[0], np.percentile(ys, 84.13, axis=0)[0], color='C0', alpha=0.5) # 1-sigma\n",
    "plt.plot(x[0], ys.mean(axis=0)[0], color='C0', label='Model predictions')\n",
    "plt.scatter(data['x'], data['y'], marker='o', color='black', label='Training data')\n",
    "plt.xlabel('x')\n",
    "plt.ylabel('y')\n",
    "plt.legend()\n",
    "if wandb_run: wandb.log({'Question 6; predictive': wandb.Image(plt)})\n",
    "plt.show()"
   ]
  },
  {
   "cell_type": "code",
   "execution_count": null,
   "metadata": {},
   "outputs": [],
   "source": [
    "# Finalize W&B\n",
    "if wandb_run:\n",
    "    wandb.finish()"
   ]
  }
 ],
 "metadata": {
  "kernelspec": {
   "display_name": "Python 3 (ipykernel)",
   "language": "python",
   "name": "python3"
  },
  "language_info": {
   "codemirror_mode": {
    "name": "ipython",
    "version": 3
   },
   "file_extension": ".py",
   "mimetype": "text/x-python",
   "name": "python",
   "nbconvert_exporter": "python",
   "pygments_lexer": "ipython3",
   "version": "3.9.13"
  },
  "vscode": {
   "interpreter": {
    "hash": "ae180c87b89ba71a7e50795e1c5819581a3ddd9f48de21281c67ba3909e39733"
   }
  }
 },
 "nbformat": 4,
 "nbformat_minor": 2
}
